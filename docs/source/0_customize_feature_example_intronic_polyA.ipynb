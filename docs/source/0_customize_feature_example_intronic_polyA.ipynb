{
 "cells": [
  {
   "cell_type": "markdown",
   "metadata": {},
   "source": [
    "# Analysis of intronic polyA sites\n",
    "This notebook demostrates on how to create cutomized features. The examples is using intronic polyA annotations from the polyADB"
   ]
  },
  {
   "cell_type": "code",
   "execution_count": 1,
   "metadata": {},
   "outputs": [
    {
     "name": "stdout",
     "output_type": "stream",
     "text": [
      "Using /home/hsher/gencode_coords/GRCh38.p13.genome.fa\n",
      "using /home/hsher/gencode_coords/GRCh38.p13.genome.fa\n",
      "Using:  /home/hsher/gencode_coords/gencode.v33.transcript.gff3\n"
     ]
    }
   ],
   "source": [
    "# set up files associated with each genome coordinates\n",
    "import metadensity as md\n",
    "md.settings.from_config_file('/tscc/nfs/home/hsher/Metadensity/config/hg38-tscc2.ini')\n",
    "\n",
    "\n",
    "# then import the modules\n",
    "from metadensity.metadensity import *\n",
    "from metadensity.plotd import *\n",
    "import pandas as pd\n",
    "import matplotlib.pyplot as plt\n",
    "\n",
    "\n",
    "# I have a precompiles list of ENCODE datas as a csv that loads in this dataloader\n",
    "import sys\n",
    "sys.path.append('/home/hsher/Metadensity/scripts')\n",
    "from dataloader import *\n",
    "%matplotlib inline"
   ]
  },
  {
   "cell_type": "code",
   "execution_count": 2,
   "metadata": {},
   "outputs": [],
   "source": [
    "# use katie's PCF11\n",
    "katie_data = pd.read_csv('/home/hsher/projects/katie/katie_eclip.csv', index_col = 0)"
   ]
  },
  {
   "cell_type": "code",
   "execution_count": 3,
   "metadata": {},
   "outputs": [
    {
     "data": {
      "text/html": [
       "<div>\n",
       "<style scoped>\n",
       "    .dataframe tbody tr th:only-of-type {\n",
       "        vertical-align: middle;\n",
       "    }\n",
       "\n",
       "    .dataframe tbody tr th {\n",
       "        vertical-align: top;\n",
       "    }\n",
       "\n",
       "    .dataframe thead th {\n",
       "        text-align: right;\n",
       "    }\n",
       "</style>\n",
       "<table border=\"1\" class=\"dataframe\">\n",
       "  <thead>\n",
       "    <tr style=\"text-align: right;\">\n",
       "      <th></th>\n",
       "      <th>uid</th>\n",
       "      <th>RBP</th>\n",
       "      <th>Cell line</th>\n",
       "      <th>bam_0</th>\n",
       "      <th>bam_1</th>\n",
       "      <th>bam_control</th>\n",
       "      <th>minus_0</th>\n",
       "      <th>minus_1</th>\n",
       "      <th>minus_control</th>\n",
       "      <th>plus_0</th>\n",
       "      <th>...</th>\n",
       "      <th>bed_0</th>\n",
       "      <th>bed_1</th>\n",
       "      <th>Batch</th>\n",
       "      <th>prefix</th>\n",
       "      <th>bam_control_0</th>\n",
       "      <th>bam_control_1</th>\n",
       "      <th>plus_control_0</th>\n",
       "      <th>plus_control_1</th>\n",
       "      <th>minus_control_0</th>\n",
       "      <th>minus_control_1</th>\n",
       "    </tr>\n",
       "  </thead>\n",
       "  <tbody>\n",
       "    <tr>\n",
       "      <th>28</th>\n",
       "      <td>258</td>\n",
       "      <td>CPSF6</td>\n",
       "      <td>K562</td>\n",
       "      <td>/projects/ps-yeolab3/encode/analysis/encode_GR...</td>\n",
       "      <td>/projects/ps-yeolab3/encode/analysis/encode_GR...</td>\n",
       "      <td>/projects/ps-yeolab3/encode/analysis/encode_GR...</td>\n",
       "      <td>/projects/ps-yeolab3/encode/analysis/encode_GR...</td>\n",
       "      <td>/projects/ps-yeolab3/encode/analysis/encode_GR...</td>\n",
       "      <td>/projects/ps-yeolab3/encode/analysis/encode_GR...</td>\n",
       "      <td>/projects/ps-yeolab3/encode/analysis/encode_GR...</td>\n",
       "      <td>...</td>\n",
       "      <td>/projects/ps-yeolab5/encode/EVN_eCLIP_analysis...</td>\n",
       "      <td>/projects/ps-yeolab5/encode/EVN_eCLIP_analysis...</td>\n",
       "      <td>NaN</td>\n",
       "      <td>NaN</td>\n",
       "      <td>NaN</td>\n",
       "      <td>NaN</td>\n",
       "      <td>NaN</td>\n",
       "      <td>NaN</td>\n",
       "      <td>NaN</td>\n",
       "      <td>NaN</td>\n",
       "    </tr>\n",
       "  </tbody>\n",
       "</table>\n",
       "<p>1 rows × 23 columns</p>\n",
       "</div>"
      ],
      "text/plain": [
       "    uid    RBP Cell line                                              bam_0  \\\n",
       "28  258  CPSF6      K562  /projects/ps-yeolab3/encode/analysis/encode_GR...   \n",
       "\n",
       "                                                bam_1  \\\n",
       "28  /projects/ps-yeolab3/encode/analysis/encode_GR...   \n",
       "\n",
       "                                          bam_control  \\\n",
       "28  /projects/ps-yeolab3/encode/analysis/encode_GR...   \n",
       "\n",
       "                                              minus_0  \\\n",
       "28  /projects/ps-yeolab3/encode/analysis/encode_GR...   \n",
       "\n",
       "                                              minus_1  \\\n",
       "28  /projects/ps-yeolab3/encode/analysis/encode_GR...   \n",
       "\n",
       "                                        minus_control  \\\n",
       "28  /projects/ps-yeolab3/encode/analysis/encode_GR...   \n",
       "\n",
       "                                               plus_0  ...  \\\n",
       "28  /projects/ps-yeolab3/encode/analysis/encode_GR...  ...   \n",
       "\n",
       "                                                bed_0  \\\n",
       "28  /projects/ps-yeolab5/encode/EVN_eCLIP_analysis...   \n",
       "\n",
       "                                                bed_1 Batch prefix  \\\n",
       "28  /projects/ps-yeolab5/encode/EVN_eCLIP_analysis...   NaN    NaN   \n",
       "\n",
       "   bam_control_0 bam_control_1 plus_control_0 plus_control_1 minus_control_0  \\\n",
       "28           NaN           NaN            NaN            NaN             NaN   \n",
       "\n",
       "   minus_control_1  \n",
       "28             NaN  \n",
       "\n",
       "[1 rows x 23 columns]"
      ]
     },
     "execution_count": 3,
     "metadata": {},
     "output_type": "execute_result"
    }
   ],
   "source": [
    "# show a row of the csv file.\n",
    "master_df.loc[master_df['RBP']=='CPSF6']"
   ]
  },
  {
   "cell_type": "code",
   "execution_count": 4,
   "metadata": {},
   "outputs": [
    {
     "data": {
      "text/html": [
       "<div>\n",
       "<style scoped>\n",
       "    .dataframe tbody tr th:only-of-type {\n",
       "        vertical-align: middle;\n",
       "    }\n",
       "\n",
       "    .dataframe tbody tr th {\n",
       "        vertical-align: top;\n",
       "    }\n",
       "\n",
       "    .dataframe thead th {\n",
       "        text-align: right;\n",
       "    }\n",
       "</style>\n",
       "<table border=\"1\" class=\"dataframe\">\n",
       "  <thead>\n",
       "    <tr style=\"text-align: right;\">\n",
       "      <th></th>\n",
       "      <th>bam_0</th>\n",
       "      <th>bam_control_0</th>\n",
       "      <th>minus_0</th>\n",
       "      <th>minus_control_0</th>\n",
       "      <th>plus_0</th>\n",
       "      <th>plus_control_0</th>\n",
       "      <th>bed_0</th>\n",
       "      <th>bam_1</th>\n",
       "      <th>bam_control_1</th>\n",
       "      <th>minus_1</th>\n",
       "      <th>minus_control_1</th>\n",
       "      <th>plus_1</th>\n",
       "      <th>plus_control_1</th>\n",
       "      <th>bed_1</th>\n",
       "      <th>uid</th>\n",
       "      <th>RBP</th>\n",
       "    </tr>\n",
       "  </thead>\n",
       "  <tbody>\n",
       "    <tr>\n",
       "      <th>0</th>\n",
       "      <td>/home/wjin/projects/CLIP_seq/Kris_Katie/Data/P...</td>\n",
       "      <td>/home/wjin/projects/CLIP_seq/Kris_Katie/Data/P...</td>\n",
       "      <td>/home/wjin/projects/CLIP_seq/Kris_Katie/Data/P...</td>\n",
       "      <td>/home/wjin/projects/CLIP_seq/Kris_Katie/Data/P...</td>\n",
       "      <td>/home/wjin/projects/CLIP_seq/Kris_Katie/Data/P...</td>\n",
       "      <td>/home/wjin/projects/CLIP_seq/Kris_Katie/Data/P...</td>\n",
       "      <td>/home/wjin/projects/CLIP_seq/Kris_Katie/Data/P...</td>\n",
       "      <td>/home/wjin/projects/CLIP_seq/Kris_Katie/Data/P...</td>\n",
       "      <td>/home/wjin/projects/CLIP_seq/Kris_Katie/Data/P...</td>\n",
       "      <td>/home/wjin/projects/CLIP_seq/Kris_Katie/Data/P...</td>\n",
       "      <td>/home/wjin/projects/CLIP_seq/Kris_Katie/Data/P...</td>\n",
       "      <td>/home/wjin/projects/CLIP_seq/Kris_Katie/Data/P...</td>\n",
       "      <td>/home/wjin/projects/CLIP_seq/Kris_Katie/Data/P...</td>\n",
       "      <td>/home/wjin/projects/CLIP_seq/Kris_Katie/Data/P...</td>\n",
       "      <td>PCF11</td>\n",
       "      <td>PCF11</td>\n",
       "    </tr>\n",
       "  </tbody>\n",
       "</table>\n",
       "</div>"
      ],
      "text/plain": [
       "                                               bam_0  \\\n",
       "0  /home/wjin/projects/CLIP_seq/Kris_Katie/Data/P...   \n",
       "\n",
       "                                       bam_control_0  \\\n",
       "0  /home/wjin/projects/CLIP_seq/Kris_Katie/Data/P...   \n",
       "\n",
       "                                             minus_0  \\\n",
       "0  /home/wjin/projects/CLIP_seq/Kris_Katie/Data/P...   \n",
       "\n",
       "                                     minus_control_0  \\\n",
       "0  /home/wjin/projects/CLIP_seq/Kris_Katie/Data/P...   \n",
       "\n",
       "                                              plus_0  \\\n",
       "0  /home/wjin/projects/CLIP_seq/Kris_Katie/Data/P...   \n",
       "\n",
       "                                      plus_control_0  \\\n",
       "0  /home/wjin/projects/CLIP_seq/Kris_Katie/Data/P...   \n",
       "\n",
       "                                               bed_0  \\\n",
       "0  /home/wjin/projects/CLIP_seq/Kris_Katie/Data/P...   \n",
       "\n",
       "                                               bam_1  \\\n",
       "0  /home/wjin/projects/CLIP_seq/Kris_Katie/Data/P...   \n",
       "\n",
       "                                       bam_control_1  \\\n",
       "0  /home/wjin/projects/CLIP_seq/Kris_Katie/Data/P...   \n",
       "\n",
       "                                             minus_1  \\\n",
       "0  /home/wjin/projects/CLIP_seq/Kris_Katie/Data/P...   \n",
       "\n",
       "                                     minus_control_1  \\\n",
       "0  /home/wjin/projects/CLIP_seq/Kris_Katie/Data/P...   \n",
       "\n",
       "                                              plus_1  \\\n",
       "0  /home/wjin/projects/CLIP_seq/Kris_Katie/Data/P...   \n",
       "\n",
       "                                      plus_control_1  \\\n",
       "0  /home/wjin/projects/CLIP_seq/Kris_Katie/Data/P...   \n",
       "\n",
       "                                               bed_1    uid    RBP  \n",
       "0  /home/wjin/projects/CLIP_seq/Kris_Katie/Data/P...  PCF11  PCF11  "
      ]
     },
     "execution_count": 4,
     "metadata": {},
     "output_type": "execute_result"
    }
   ],
   "source": [
    "# show a row of the csv file.\n",
    "katie_data.loc[katie_data['uid']=='PCF11']"
   ]
  },
  {
   "cell_type": "code",
   "execution_count": 5,
   "metadata": {},
   "outputs": [],
   "source": [
    "# load each row the data file into an eCLIP Object\n",
    "U2AF1 = eCLIP.from_series(encode_data.loc[(encode_data['RBP'] == 'U2AF1')&(encode_data['Cell line'] == 'HepG2')].iloc[0], single_end = False)\n",
    "U2AF2 = eCLIP.from_series(encode_data.loc[(encode_data['RBP'] == 'U2AF2')&(encode_data['Cell line'] == 'HepG2')].iloc[0], single_end = False)\n",
    "SF3B4 = eCLIP.from_series(encode_data.loc[(encode_data['RBP'] == 'SF3B4')&(encode_data['Cell line'] == 'HepG2')].iloc[0], single_end = False)\n",
    "NONO = eCLIP.from_series(encode4_data.loc[(encode4_data['RBP'] == 'NONO')&(encode4_data['Cell line'] == 'HepG2')].iloc[0], single_end = True)\n",
    "CPSF6 = eCLIP.from_series(encode_data.loc[(encode_data['RBP'] == 'CPSF6')&(encode_data['Cell line'] == 'K562')].iloc[0], single_end = False)\n",
    "PCF11 = eCLIP.from_series(katie_data.loc[katie_data['uid']=='PCF11'].iloc[0], single_end = True)\n",
    "all_clips = [U2AF1,U2AF2,SF3B4, NONO,CPSF6, PCF11]"
   ]
  },
  {
   "cell_type": "markdown",
   "metadata": {},
   "source": [
    "## Creating custom  features on metagene, using intronic polyA sites as an example"
   ]
  },
  {
   "cell_type": "code",
   "execution_count": 45,
   "metadata": {},
   "outputs": [
    {
     "data": {
      "text/plain": [
       "'/home/hsher/gencode_coords/polyA.atlas.clusters.2.0.GRCh38.96.bed'"
      ]
     },
     "execution_count": 45,
     "metadata": {},
     "output_type": "execute_result"
    }
   ],
   "source": [
    "os.path.join(settings.root_dir, settings.polya_fname)"
   ]
  },
  {
   "cell_type": "code",
   "execution_count": 29,
   "metadata": {},
   "outputs": [
    {
     "name": "stderr",
     "output_type": "stream",
     "text": [
      "/home/hsher/miniconda3/envs/metadensity/lib/python3.7/site-packages/IPython/core/interactiveshell.py:3173: DtypeWarning: Columns (0) have mixed types.Specify dtype option on import or set low_memory=False.\n",
      "  interactivity=interactivity, compiler=compiler, result=result)\n"
     ]
    }
   ],
   "source": [
    "# load polyA sites files\n",
    "# (in order of decreasing priority: TE, terminal exon; EX, exonic; IN, intronic; DS, 1,000 nt downstream of an annotated terminal exon; AE, anti-sense to an exon; AI, anti-sense to an intron; AU, 1,000 nt upstream in anti-sense direction of a transcription start site; IG, intergenic)\n",
    "polyadf = pd.read_csv(os.path.join(settings.root_dir, settings.polya_fname), sep = '\\t', header = None, names = ['chrom', 'start', 'end', 'name', 'average expression', 'strand', 'perc_sample','n_sample', 'avg_tpm', 'polyatype', 'polyasignal'])\n",
    "#  two letter code for the cluster annotation (in order of decreasing priority: \n",
    "# TE, terminal exon; EX, exonic; IN, intronic; DS, 1,000 nt downstream of an annotated terminal exon; AE, anti-sense to an exon; AI, anti-sense to an intron; AU, 1,000 nt upstream in anti-sense direction of a transcription start site; IG, intergenic)\n",
    "# the chromosome is listed differently\n",
    "polyadf['chrom'] = 'chr'+polyadf['chrom'].astype(str)\n",
    "\n",
    "# filter with TPM at least 0.2\n",
    "polyadf = polyadf.loc[polyadf['average expression']>0.2]"
   ]
  },
  {
   "cell_type": "code",
   "execution_count": 16,
   "metadata": {},
   "outputs": [],
   "source": [
    "# make type specific annotation\n",
    "def extract_polyA_signal_coordinates(subset_polyadf):\n",
    "    ''' subtracting the coordinate of polyA signal from polya dataframe'''\n",
    "    # extract polya signals\n",
    "    signal_coord = []\n",
    "    for index, row in subset_polyadf.iterrows():\n",
    "        if type(row['polyasignal'])==str:\n",
    "            polyasignals = row['polyasignal'].split(';')\n",
    "            for sig in polyasignals:\n",
    "                motif, rela_pos, obs_pos = sig.split('@')\n",
    "                signal_coord.append([row['chrom'],int(obs_pos),int(obs_pos)+1, \n",
    "                                     row['name'], row['polyatype'], row['strand']])\n",
    "\n",
    "    # make into bed\n",
    "    polysignal_df = pd.DataFrame(signal_coord,\n",
    "                                columns= ['chrom', 'start', 'end', 'name', 'score', 'strand'])\n",
    "    polyasignal_bed = BedTool.from_dataframe(polysignal_df)\n",
    "\n",
    "    return polyasignal_bed\n",
    "def polyAtype_specific_coords(polyAtype, polyadf = polyadf):\n",
    "    ''' create polyA related feature for specific types of polyA\n",
    "    polyAtype can be TE, EX, IN, DS..'''\n",
    "    # filter for specific types\n",
    "    subset_polyadf = polyadf.loc[polyadf['polyatype']==polyAtype]\n",
    "    \n",
    "    # create bed of polyA sites\n",
    "    polya_site_bed = BedTool.from_dataframe(subset_polyadf)\n",
    "    polya_signal_bed = extract_polyA_signal_coordinates(subset_polyadf)\n",
    "    \n",
    "    return polya_site_bed, polya_signal_bed"
   ]
  },
  {
   "cell_type": "code",
   "execution_count": 30,
   "metadata": {},
   "outputs": [],
   "source": [
    "# extract intronic polyA sites and signal\n",
    "#information about the poly(A) signal(s) that are present upstream of the poly(A) site, \n",
    "#including the motif, the location with respect to the cleavage site and the genomic coordinate\n",
    "\n",
    "polya, polyasignal_bed = polyAtype_specific_coords('IN', polyadf = polyadf)"
   ]
  },
  {
   "cell_type": "code",
   "execution_count": 31,
   "metadata": {},
   "outputs": [
    {
     "name": "stderr",
     "output_type": "stream",
     "text": [
      "/home/hsher/miniconda3/envs/metadensity/lib/python3.7/site-packages/pybedtools-0.8.1-py3.7-linux-x86_64.egg/pybedtools/bedtool.py:3681: UserWarning: Default names for filetype bed are:\n",
      "['chrom', 'start', 'end', 'name', 'score', 'strand', 'thickStart', 'thickEnd', 'itemRgb', 'blockCount', 'blockSizes', 'blockStarts']\n",
      "but file has 20 fields; you can supply custom names with the `names` kwarg\n",
      "  \"`names` kwarg\" % (self.file_type, _names, self.field_count())\n",
      "/home/hsher/miniconda3/envs/metadensity/lib/python3.7/site-packages/pybedtools-0.8.1-py3.7-linux-x86_64.egg/pybedtools/bedtool.py:3681: UserWarning: Default names for filetype bed are:\n",
      "['chrom', 'start', 'end', 'name', 'score', 'strand', 'thickStart', 'thickEnd', 'itemRgb', 'blockCount', 'blockSizes', 'blockStarts']\n",
      "but file has 15 fields; you can supply custom names with the `names` kwarg\n",
      "  \"`names` kwarg\" % (self.file_type, _names, self.field_count())\n"
     ]
    }
   ],
   "source": [
    "# determine which transcript these are in\n",
    "header = ['chrom', 'start', 'end', 'name', 'score', 'strand', 'attr']\n",
    "polya_site_df = polya.intersect(transcript,s = True, wb = True).to_dataframe(header = None)[[0,1,2,3,4,5,19]]\n",
    "polysignal_df = polyasignal_bed.intersect(transcript, s = True, wb = True).to_dataframe(header = None)[[0,1,2,3,4,5,14]]\n",
    "polya_site_df.columns = header\n",
    "polysignal_df.columns = header"
   ]
  },
  {
   "cell_type": "code",
   "execution_count": 34,
   "metadata": {},
   "outputs": [],
   "source": [
    "# extract transcript name\n",
    "def segment_transcript_name(s):\n",
    "    return s.split(';')[0].split('=')[1]\n",
    "polysignal_df['transcript_id']= polysignal_df['attr'].map(segment_transcript_name)\n",
    "polya_site_df['transcript_id']= polya_site_df['attr'].map(segment_transcript_name)"
   ]
  },
  {
   "cell_type": "markdown",
   "metadata": {},
   "source": [
    "## Building Metagene objects containing intronic polyA sites\n",
    "Now we know where these sites are, and we know what transcripts they are in.\n",
    "The next step is to add the polyA site features into metagene objects."
   ]
  },
  {
   "cell_type": "code",
   "execution_count": 35,
   "metadata": {},
   "outputs": [
    {
     "name": "stderr",
     "output_type": "stream",
     "text": [
      "/home/hsher/miniconda3/envs/metadensity/lib/python3.7/site-packages/IPython/core/interactiveshell.py:3364: DtypeWarning: Columns (2,3,4,5,6,7,8,9,10,11,12,13,14,15,16,17,18,19,20,21,22,23,24,25,26,27,28,29,30,31,32,33,34,35,36,37,38,39,40,41,42,43,44,45,46,47,48,49,50,51,52,53,54,55,56,57,58,59,60,61,62,63,64,65,66,67,68,69,70,71,72,73,74,75,76,77,78,79,80,81,82,83,84,85,86,87,88,89,90,91,92,93,94,95,96,97,98,99,100,101,102,103,104,105,106,107,108,109,110) have mixed types.Specify dtype option on import or set low_memory=False.\n",
      "  if (await self.run_code(code, result,  async_=asy)):\n"
     ]
    },
    {
     "name": "stdout",
     "output_type": "stream",
     "text": [
      "Using: /home/hsher/Metadensity/metadensity/data/hg38/gencode\n",
      "Done building metagene\n"
     ]
    }
   ],
   "source": [
    "# build metagene from highly expressed in HepG2 cell lines\n",
    "from metadensity.pos_enrich import *\n",
    "high_exp_meta = highly_exp_biogps('HEPG2')"
   ]
  },
  {
   "cell_type": "code",
   "execution_count": 36,
   "metadata": {},
   "outputs": [
    {
     "data": {
      "text/plain": [
       "(51, 8)"
      ]
     },
     "execution_count": 36,
     "metadata": {},
     "output_type": "execute_result"
    }
   ],
   "source": [
    "# check how many of those highly expressed contain intronic polya sites\n",
    "polya_site_df.loc[polya_site_df['transcript_id'].isin(high_exp_meta.keys())].shape"
   ]
  },
  {
   "cell_type": "code",
   "execution_count": 37,
   "metadata": {},
   "outputs": [],
   "source": [
    "# add feature to those metagene\n",
    "length = 200\n",
    "for transcript_id in high_exp_meta.keys():\n",
    "    metagene = high_exp_meta[transcript_id]\n",
    "    \n",
    "    # add feature\n",
    "    sub = polya_site_df.loc[polya_site_df['transcript_id']==transcript_id]\n",
    "    for index, row in sub.iterrows():\n",
    "        metagene.create_feature(interval = row['start'], feature_name = 'intron_polyAsite',\n",
    "                                length = 200\n",
    "                               ) # POINT FEATURE\n",
    "    \n",
    "    sub = polysignal_df.loc[polysignal_df['transcript_id']==transcript_id]\n",
    "    for index, row in sub.iterrows():\n",
    "        metagene.create_feature(interval = row['start'], feature_name = 'intron_polyAsig',\n",
    "                               length = 200)"
   ]
  },
  {
   "cell_type": "code",
   "execution_count": 38,
   "metadata": {},
   "outputs": [],
   "source": [
    "# remove metagene that has no intronic polya\n",
    "for transcript_id in list(high_exp_meta.keys()).copy():\n",
    "    metagene = high_exp_meta[transcript_id]\n",
    "    \n",
    "    if 'intron_polyAsite' not in metagene.featnames or 'intron_polyAsig' not in metagene.featnames:\n",
    "        del high_exp_meta[transcript_id]"
   ]
  },
  {
   "cell_type": "code",
   "execution_count": 39,
   "metadata": {},
   "outputs": [
    {
     "data": {
      "text/plain": [
       "34"
      ]
     },
     "execution_count": 39,
     "metadata": {},
     "output_type": "execute_result"
    }
   ],
   "source": [
    "# we get a total of 147 transcripts with annotation\n",
    "len(high_exp_meta)"
   ]
  },
  {
   "cell_type": "markdown",
   "metadata": {},
   "source": [
    "## extract density from eCLIP\n",
    "The `Metadensity` Object takes in `eCLIP` and the `metagene` we just built with polyA sites, and fetch density around/within each features"
   ]
  },
  {
   "cell_type": "code",
   "execution_count": 40,
   "metadata": {},
   "outputs": [],
   "source": [
    "def build_idr_metadensity(eCLIP, metagene = high_exp_meta):\n",
    "    ''' build metadensity object given eCLIP data and metagene that is build with intronic polyA sites'''\n",
    "    \n",
    "    m = Metadensity(eCLIP, eCLIP.name, metagenes = metagene,\n",
    "                   background_method = 'relative information', normalize = False)\n",
    "    m.featnames = ['intron_polyAsig','intron_polyAsite'] # to restrict only computing for these 2 features\n",
    "    m.get_density_array()\n",
    "    return m"
   ]
  },
  {
   "cell_type": "code",
   "execution_count": 41,
   "metadata": {},
   "outputs": [],
   "source": [
    "# do it for all eCLIP objects\n",
    "all_meta = [build_idr_metadensity(e) for e in all_clips]\n"
   ]
  },
  {
   "cell_type": "code",
   "execution_count": 62,
   "metadata": {},
   "outputs": [
    {
     "data": {
      "image/png": "[encoded data removed]",
      "text/plain": [
       "<Figure size 864x216 with 4 Axes>"
      ]
     },
     "metadata": {
      "needs_background": "light"
     },
     "output_type": "display_data"
    }
   ],
   "source": [
    "# visualize it\n",
    "f=plot_mean_density(all_meta,\n",
    "                    features_to_show = ['intron_polyAsig','intron_polyAsite'], \n",
    "                    ymax = 0.00001, stat = 'median',plot_std = False)\n",
    "f=beautify(f)"
   ]
  },
  {
   "cell_type": "code",
   "execution_count": 61,
   "metadata": {},
   "outputs": [
    {
     "data": {
      "image/png": "[encoded data removed]",
      "text/plain": [
       "<Figure size 432x216 with 2 Axes>"
      ]
     },
     "metadata": {
      "needs_background": "light"
     },
     "output_type": "display_data"
    }
   ],
   "source": [
    "f=plot_mean_density([m for m in all_meta if m.name=='PCF11' \n",
    "                     or m.name == 'U2AF2'],\n",
    "                    features_to_show = ['intron_polyAsig'], \n",
    "                    ymax = 0.000004, stat = 'median', plot_std = False,\n",
    "                   color_dict = {'PCF11':'mediumorchid', 'U2AF2':'gold'})\n",
    "f=beautify(f)"
   ]
  },
  {
   "cell_type": "code",
   "execution_count": 56,
   "metadata": {},
   "outputs": [
    {
     "data": {
      "image/png": "[encoded data removed]",
      "text/plain": [
       "<Figure size 432x216 with 2 Axes>"
      ]
     },
     "metadata": {
      "needs_background": "light"
     },
     "output_type": "display_data"
    }
   ],
   "source": [
    "f=plot_mean_density([m for m in all_meta if m.name=='PCF11' or m.name == 'U2AF2'],\n",
    "                    features_to_show = ['intron_polyAsite'], \n",
    "                    ymax = 0.00005, stat = 'mean', plot_std = False)\n",
    "f=beautify(f)"
   ]
  },
  {
   "cell_type": "code",
   "execution_count": 19,
   "metadata": {},
   "outputs": [
    {
     "data": {
      "text/plain": [
       "{6647112,\n",
       " 6649008,\n",
       " 6652407,\n",
       " 6653154,\n",
       " 6672178,\n",
       " 6674099,\n",
       " 6691311,\n",
       " 6692044,\n",
       " 6693824,\n",
       " 6700965}"
      ]
     },
     "execution_count": 19,
     "metadata": {},
     "output_type": "execute_result"
    }
   ],
   "source": [
    "all_meta[0].metagene['ENST00000377577.10'].features['intron_polyAsite']"
   ]
  },
  {
   "cell_type": "code",
   "execution_count": 20,
   "metadata": {},
   "outputs": [
    {
     "data": {
      "text/plain": [
       "50"
      ]
     },
     "execution_count": 20,
     "metadata": {},
     "output_type": "execute_result"
    }
   ],
   "source": [
    "settings.point_feature_len"
   ]
  },
  {
   "cell_type": "code",
   "execution_count": 21,
   "metadata": {},
   "outputs": [
    {
     "data": {
      "text/plain": [
       "defaultdict(<function metadensity.config.MetadensityConfig.__init__.<locals>.<lambda>()>,\n",
       "            {'five_prime_UTR': 100,\n",
       "             'three_prime_UTR': 150,\n",
       "             'intron': 500,\n",
       "             'exon': 100,\n",
       "             'first_exon': 100,\n",
       "             'last_exon': 100,\n",
       "             'CDS': 100,\n",
       "             'first_CDS': 100,\n",
       "             'last_CDS': 100,\n",
       "             '3p_duplex': 20,\n",
       "             '5p_duplex': 20,\n",
       "             'mature': 20,\n",
       "             'hairpin': 10,\n",
       "             'pri_mir': 500,\n",
       "             'start_codon': 3,\n",
       "             'stop_codon': 3,\n",
       "             'branchpoint': 50,\n",
       "             'branchpoint_pred': 50,\n",
       "             'full_CDS': 200,\n",
       "             'intron_polyAsite': 200,\n",
       "             'intron_polyAsig': 200})"
      ]
     },
     "execution_count": 21,
     "metadata": {},
     "output_type": "execute_result"
    }
   ],
   "source": [
    "settings.feat_len"
   ]
  },
  {
   "cell_type": "code",
   "execution_count": 30,
   "metadata": {},
   "outputs": [
    {
     "data": {
      "text/plain": [
       "dict_keys(['exon', 'CDS', 'start_codon', 'stop_codon', 'five_prime_UTR', 'three_prime_UTR', 'intron', 'branchpoint', 'branchpoint_pred', 'last_exon', 'first_exon', 'last_CDS', 'first_CDS', 'intron_polyAsite', 'intron_polyAsig'])"
      ]
     },
     "execution_count": 30,
     "metadata": {},
     "output_type": "execute_result"
    }
   ],
   "source": [
    "m=all_meta[0].metagene['ENST00000377577.10']\n",
    "m.features.keys()"
   ]
  },
  {
   "cell_type": "code",
   "execution_count": 23,
   "metadata": {},
   "outputs": [
    {
     "data": {
      "text/plain": [
       "400"
      ]
     },
     "execution_count": 23,
     "metadata": {},
     "output_type": "execute_result"
    }
   ],
   "source": [
    "len(m.densities['282']['rep1']['intron_polyAsite'])"
   ]
  },
  {
   "cell_type": "code",
   "execution_count": null,
   "metadata": {},
   "outputs": [],
   "source": []
  }
 ],
 "metadata": {
  "kernelspec": {
   "display_name": "metadensity",
   "language": "python",
   "name": "metadensity"
  },
  "language_info": {
   "codemirror_mode": {
    "name": "ipython",
    "version": 3
   },
   "file_extension": ".py",
   "mimetype": "text/x-python",
   "name": "python",
   "nbconvert_exporter": "python",
   "pygments_lexer": "ipython3",
   "version": "3.7.12"
  }
 },
 "nbformat": 4,
 "nbformat_minor": 4
}
