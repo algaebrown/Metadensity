{
 "cells": [
  {
   "cell_type": "markdown",
   "metadata": {},
   "source": [
    "# Using Metadensity with skipper outputs\n",
    "[Skipper](https://github.com/YeoLab/skipper) is a new eCLIP pipeline that is faster and more sensitive. \n",
    "\n",
    "Technically, Metadensity does not care how the bigwig files/bed/bams files are generated. Therefore, whether you process the data with skipper, or ENCODE pipeline, or whatever pipeline you wrote, as long as the file formats (.bigwig, .bam, .bed) are right, Metadensity runs.\n",
    "\n",
    "This notebook offers a shortcut for users that finds python annoying to copy paste from."
   ]
  },
  {
   "cell_type": "code",
   "execution_count": 1,
   "metadata": {},
   "outputs": [
    {
     "name": "stdout",
     "output_type": "stream",
     "text": [
      "please set the right config according to genome coordinate\n",
      "Using /home/hsher/gencode_coords/GRCh38.p13.genome.fa\n",
      "Using HG38 by default\n",
      "Using /tscc/nfs/home/hsher/gencode_coords/GRCh38.p13.genome.fa\n"
     ]
    },
    {
     "name": "stderr",
     "output_type": "stream",
     "text": [
      "Matplotlib created a temporary config/cache directory at /tmp/matplotlib-z0irv727 because the default path (/home/jovyan/.cache/matplotlib) is not a writable directory; it is highly recommended to set the MPLCONFIGDIR environment variable to a writable directory, in particular to speed up the import of Matplotlib and to better support multiprocessing.\n"
     ]
    },
    {
     "name": "stdout",
     "output_type": "stream",
     "text": [
      "Using:  /tscc/nfs/home/hsher/gencode_coords/gencode.v33.transcript.gff3\n"
     ]
    }
   ],
   "source": [
    "# set up files associated with each genome coordinates\n",
    "import metadensity as md\n",
    "md.settings.from_config_file('/tscc/nfs/home/hsher/Metadensity/config/hg38-tscc2.ini')\n",
    "\n",
    "\n",
    "# then import the modules\n",
    "from metadensity.metadensity import *\n",
    "from metadensity.plotd import *\n",
    "import pandas as pd\n",
    "import matplotlib.pyplot as plt\n",
    "%matplotlib inline\n",
    "\n",
    "# I have a precompiles list of ENCODE datas as a csv that loads in this dataloader\n",
    "plt.style.use('seaborn-white')"
   ]
  },
  {
   "cell_type": "markdown",
   "metadata": {},
   "source": [
    "## load RBPs into eCLIP object from Skipper outputs\n",
    "\n",
    "Notice the bigwig files skipper produce are 'read truncation counts', which is different from the coverage track from encode pipeline. Therefore, it is sparser than read coverage. the plot looks more noisy than coverage bigwig tracks. To calculate coverage tracks instead, you can make use of rules in [here](https://github.com/algaebrown/make_track/blob/master/Snake_CLIP_track.py)"
   ]
  },
  {
   "cell_type": "code",
   "execution_count": 2,
   "metadata": {
    "tags": []
   },
   "outputs": [],
   "source": [
    "from pathlib import Path\n",
    "skipper_output_dir = Path('/tscc/projects/ps-yeolab5/encore/processing/skipper_output/')"
   ]
  },
  {
   "cell_type": "code",
   "execution_count": 3,
   "metadata": {},
   "outputs": [
    {
     "data": {
      "text/plain": [
       "'/tscc/nfs/home/hsher/gencode_coords/gencode.v33.transcript.gff3'"
      ]
     },
     "execution_count": 3,
     "metadata": {},
     "output_type": "execute_result"
    }
   ],
   "source": [
    "transcript.fn"
   ]
  },
  {
   "cell_type": "code",
   "execution_count": 4,
   "metadata": {
    "tags": []
   },
   "outputs": [],
   "source": [
    "def get_file_path(prefix, skipper_output_dir, ip_suffix = '_IP_',\n",
    "                 in_suffix = '_IN_', rep = 1):\n",
    "    return pd.Series({'uid':prefix+f'_rep{rep}',\n",
    "               'RBP': prefix+f'_rep{rep}',\n",
    "               'bam_0': str(skipper_output_dir/'bams'/'dedup'/'genome'/f'{prefix}{ip_suffix}{rep}.genome.Aligned.sort.dedup.bam'),\n",
    "               'bam_control_0':str(skipper_output_dir/'bams'/'dedup'/'genome'/f'{prefix}{in_suffix}{rep}.genome.Aligned.sort.dedup.bam'),\n",
    "               'minus_0': str(skipper_output_dir / 'bigwigs/unscaled' / 'minus' / f'{prefix}{ip_suffix}{rep}.unscaled.minus.bw'),\n",
    "               'minus_control_0': str(skipper_output_dir / 'bigwigs/unscaled' / 'minus' / f'{prefix}{in_suffix}{rep}.unscaled.minus.bw'),\n",
    "               'plus_0': str(skipper_output_dir / 'bigwigs/unscaled' / 'plus' / f'{prefix}{ip_suffix}{rep}.unscaled.plus.bw'),\n",
    "               'plus_control_0': str(skipper_output_dir / 'bigwigs/unscaled' / 'plus' / f'{prefix}{in_suffix}{rep}.unscaled.plus.bw'),\n",
    "                'bed_0': transcript.fn # This is not being used as the later function select transcripts. \n",
    "                      #OBSOLETE. newer version will not require this\n",
    "                      # function `find_gene_ids_with_reproducible_windows` dictates what genes to be used\n",
    "              }\n",
    "             )"
   ]
  },
  {
   "cell_type": "code",
   "execution_count": 5,
   "metadata": {
    "tags": []
   },
   "outputs": [
    {
     "data": {
      "text/plain": [
       "uid                False\n",
       "RBP                False\n",
       "bam_0               True\n",
       "bam_control_0       True\n",
       "minus_0             True\n",
       "minus_control_0     True\n",
       "plus_0              True\n",
       "plus_control_0      True\n",
       "bed_0               True\n",
       "dtype: bool"
      ]
     },
     "execution_count": 5,
     "metadata": {},
     "output_type": "execute_result"
    }
   ],
   "source": [
    "# check if files exist.\n",
    "# if your bigwigs don't exist, need to uncomment the rule all output bigwig/ line\n",
    "get_file_path('4121', skipper_output_dir).apply(os.path.isfile)"
   ]
  },
  {
   "cell_type": "code",
   "execution_count": 6,
   "metadata": {},
   "outputs": [],
   "source": [
    "e = eCLIP.from_series(get_file_path('4212', skipper_output_dir))\n"
   ]
  },
  {
   "cell_type": "markdown",
   "metadata": {},
   "source": [
    "# The reason I did not put enriched windows into `bed_*` and `idr_` is because their format is not really a bed file\n",
    "and that will crash Metadensity, as it is using BedTool.\n",
    "alternatively, I would use `transcripts=` kwargs to specify the transcripts containing reproducible windows"
   ]
  },
  {
   "cell_type": "code",
   "execution_count": 7,
   "metadata": {
    "tags": []
   },
   "outputs": [],
   "source": [
    "from itertools import chain\n",
    "def find_gene_ids_with_reproducible_windows(prefix, skipper_output_dir):\n",
    "    window_path = skipper_output_dir / 'reproducible_enriched_windows' / f'{prefix}.reproducible_enriched_windows.tsv.gz'\n",
    "    window = pd.read_csv(window_path, sep = '\\t')\n",
    "    \n",
    "    # find genes with reproducible windows. Some windows contain >1 gene id. `chain` flattens the list of list\n",
    "    # chain https://www.geeksforgeeks.org/python-itertools-chain/\n",
    "    gene_with_windows = list(set(chain(*window['gene_id'].apply(lambda idlist: idlist.split(':')).tolist())))\n",
    "    \n",
    "    # skipper is run with gencode v38 which is different from metadensity's version. need some conversion\n",
    "    # remove version\n",
    "    geneid_no_version = [g.split('.')[0] for g in gene_with_windows] # this is list comprehension. lazy and short for loops\n",
    "    # map to Metadensity's version\n",
    "    metadensity_gene_ids = [t.attrs['gene_id'] for t in transcript if t.attrs['gene_id'].split('.')[0] in geneid_no_version]\n",
    "    return metadensity_gene_ids"
   ]
  },
  {
   "cell_type": "code",
   "execution_count": 8,
   "metadata": {
    "tags": []
   },
   "outputs": [],
   "source": [
    "geneids = find_gene_ids_with_reproducible_windows('SNRNP200_HepG2', skipper_output_dir)"
   ]
  },
  {
   "cell_type": "code",
   "execution_count": 9,
   "metadata": {},
   "outputs": [
    {
     "name": "stdout",
     "output_type": "stream",
     "text": [
      "Using: /tscc/nfs/home/hsher/projects/Metadensity/metadensity/data/hg38/gencode\n",
      "Done building metagene\n"
     ]
    }
   ],
   "source": [
    "# here for the set of transcript, we use the IDR peak containing transcript assuming they have good signal\n",
    "m = Metadensity(e, e.name,background_method = 'relative information', normalize = False, transcript_ids = geneids)\n",
    "m.get_density_array()\n"
   ]
  },
  {
   "cell_type": "code",
   "execution_count": 10,
   "metadata": {},
   "outputs": [
    {
     "data": {
      "text/plain": [
       "Text(0, 0.5, 'mean relative information')"
      ]
     },
     "execution_count": 10,
     "metadata": {},
     "output_type": "execute_result"
    },
    {
     "data": {
      "image/png": "[encoded data removed]",
      "text/plain": [
       "<Figure size 720x216 with 4 Axes>"
      ]
     },
     "metadata": {},
     "output_type": "display_data"
    }
   ],
   "source": [
    "f=plot_mean_density([m],\n",
    "                    features_to_show = ['intron', 'exon'], ymax = 0.00003)\n",
    "f=beautify(f, offset = 0) # sns.despine \n",
    "f.get_axes()[0].set_ylabel('mean relative information')"
   ]
  },
  {
   "cell_type": "code",
   "execution_count": null,
   "metadata": {},
   "outputs": [],
   "source": []
  }
 ],
 "metadata": {
  "kernelspec": {
   "display_name": "metadensity",
   "language": "python",
   "name": "metadensity"
  },
  "language_info": {
   "codemirror_mode": {
    "name": "ipython",
    "version": 3
   },
   "file_extension": ".py",
   "mimetype": "text/x-python",
   "name": "python",
   "nbconvert_exporter": "python",
   "pygments_lexer": "ipython3",
   "version": "3.7.12"
  }
 },
 "nbformat": 4,
 "nbformat_minor": 4
}
